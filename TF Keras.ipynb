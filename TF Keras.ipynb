{
 "cells": [
  {
   "cell_type": "code",
   "execution_count": 4,
   "metadata": {},
   "outputs": [],
   "source": [
    "import os\n",
    "import csv\n",
    "\n",
    "import cv2\n",
    "import numpy as np\n",
    "import pandas as pd\n",
    "import sklearn\n",
    "import matplotlib.pyplot as plt\n",
    "\n",
    "from sklearn.utils import shuffle\n",
    "from sklearn.model_selection import train_test_split\n",
    "\n",
    "import tensorflow as tf"
   ]
  },
  {
   "cell_type": "markdown",
   "metadata": {},
   "source": [
    "## Model definition"
   ]
  },
  {
   "cell_type": "code",
   "execution_count": 11,
   "metadata": {},
   "outputs": [],
   "source": [
    "### Model Parameters\n",
    "conv_dropout = 0.4\n",
    "dense_dropout = 0.5\n",
    "l2_regularization = 0.001\n",
    "\n",
    "# l1_regularizer = tf.keras.regularizers.l1(0.01)\n",
    "l2_regularizer = None #tf.keras.regularizers.l2(l2_regularization)\n",
    "\n",
    "CROP_UP = 50\n",
    "CROP_DOWN = 30\n",
    "final_height = 160 - (CROP_UP + CROP_DOWN)"
   ]
  },
  {
   "cell_type": "code",
   "execution_count": 12,
   "metadata": {},
   "outputs": [],
   "source": [
    "### Aux functions for batchnorm layers\n",
    "\n",
    "def conv2d_batch_norm(model, filters, kernel_size, kernel_regularizer=None, activation=\"relu\"):\n",
    "\n",
    "    model.add(tf.layers.Conv2D(filters, (kernel_size, kernel_size), kernel_regularizer=kernel_regularizer))\n",
    "    model.add(tf.layers.BatchNormalization())\n",
    "    model.add(tf.keras.layers.Activation(activation))\n",
    "    \n",
    "def dense_batch_norm(model, filters, kernel_regularizer=None, activation=\"relu\"):\n",
    "\n",
    "    model.add(tf.layers.Dense(filters, kernel_regularizer=kernel_regularizer))\n",
    "    model.add(tf.layers.BatchNormalization())\n",
    "    model.add(tf.keras.layers.Activation(activation))"
   ]
  },
  {
   "cell_type": "code",
   "execution_count": 13,
   "metadata": {},
   "outputs": [],
   "source": [
    "### Actual model\n",
    "model = tf.keras.Sequential()\n",
    "\n",
    "model.add(tf.layers.BatchNormalization(input_shape=(final_height, 320, 3)))\n",
    "\n",
    "conv2d_batch_norm(model, 32, 5, kernel_regularizer=l2_regularizer)\n",
    "model.add(tf.layers.MaxPooling2D((2, 2), strides=(2,2)))\n",
    "model.add(tf.layers.Dropout(conv_dropout))\n",
    "\n",
    "conv2d_batch_norm(model, 32, 3, kernel_regularizer=l2_regularizer)\n",
    "model.add(tf.layers.MaxPooling2D((2, 2), strides=(2,2)))\n",
    "model.add(tf.layers.Dropout(conv_dropout))\n",
    "\n",
    "conv2d_batch_norm(model, 64, 3, kernel_regularizer=l2_regularizer)\n",
    "model.add(tf.layers.MaxPooling2D((2, 2), strides=(2,2)))\n",
    "model.add(tf.layers.Dropout(conv_dropout))\n",
    "\n",
    "conv2d_batch_norm(model, 64, 3, kernel_regularizer=l2_regularizer)\n",
    "model.add(tf.layers.MaxPooling2D((2, 2), strides=(2,2)))\n",
    "model.add(tf.layers.Dropout(conv_dropout))\n",
    "\n",
    "model.add(tf.layers.Flatten())\n",
    "\n",
    "dense_batch_norm(model, 1024, kernel_regularizer=l2_regularizer)\n",
    "model.add(tf.layers.Dropout(dense_dropout))\n",
    "\n",
    "dense_batch_norm(model, 512, kernel_regularizer=l2_regularizer)\n",
    "model.add(tf.layers.Dropout(dense_dropout))\n",
    "\n",
    "dense_batch_norm(model, 128, kernel_regularizer=l2_regularizer)\n",
    "model.add(tf.layers.Dropout(dense_dropout))\n",
    "\n",
    "model.add(tf.layers.Dense(1))"
   ]
  },
  {
   "cell_type": "code",
   "execution_count": 14,
   "metadata": {},
   "outputs": [],
   "source": [
    "# create model\n",
    "model.compile(optimizer=tf.train.AdamOptimizer(0.001),\n",
    "              loss='mse',       # mean squared error\n",
    "              metrics=['mae'])  # mean absolute error"
   ]
  },
  {
   "cell_type": "markdown",
   "metadata": {},
   "source": [
    "## Dataset creation"
   ]
  },
  {
   "cell_type": "code",
   "execution_count": 9,
   "metadata": {},
   "outputs": [],
   "source": [
    "### folder where the data is\n",
    "DATASET = \"data_mine\""
   ]
  },
  {
   "cell_type": "code",
   "execution_count": 18,
   "metadata": {},
   "outputs": [
    {
     "data": {
      "text/html": [
       "<div>\n",
       "<style scoped>\n",
       "    .dataframe tbody tr th:only-of-type {\n",
       "        vertical-align: middle;\n",
       "    }\n",
       "\n",
       "    .dataframe tbody tr th {\n",
       "        vertical-align: top;\n",
       "    }\n",
       "\n",
       "    .dataframe thead th {\n",
       "        text-align: right;\n",
       "    }\n",
       "</style>\n",
       "<table border=\"1\" class=\"dataframe\">\n",
       "  <thead>\n",
       "    <tr style=\"text-align: right;\">\n",
       "      <th></th>\n",
       "      <th>center</th>\n",
       "      <th>left</th>\n",
       "      <th>right</th>\n",
       "      <th>steering</th>\n",
       "      <th>throttle</th>\n",
       "      <th>break</th>\n",
       "      <th>speed</th>\n",
       "    </tr>\n",
       "  </thead>\n",
       "  <tbody>\n",
       "    <tr>\n",
       "      <th>0</th>\n",
       "      <td>/home/charlie/data/charlie/self-driving-nano/C...</td>\n",
       "      <td>/home/charlie/data/charlie/self-driving-nano/C...</td>\n",
       "      <td>/home/charlie/data/charlie/self-driving-nano/C...</td>\n",
       "      <td>0.0</td>\n",
       "      <td>0.0</td>\n",
       "      <td>0</td>\n",
       "      <td>0.000020</td>\n",
       "    </tr>\n",
       "    <tr>\n",
       "      <th>1</th>\n",
       "      <td>/home/charlie/data/charlie/self-driving-nano/C...</td>\n",
       "      <td>/home/charlie/data/charlie/self-driving-nano/C...</td>\n",
       "      <td>/home/charlie/data/charlie/self-driving-nano/C...</td>\n",
       "      <td>0.0</td>\n",
       "      <td>0.0</td>\n",
       "      <td>0</td>\n",
       "      <td>0.000011</td>\n",
       "    </tr>\n",
       "    <tr>\n",
       "      <th>2</th>\n",
       "      <td>/home/charlie/data/charlie/self-driving-nano/C...</td>\n",
       "      <td>/home/charlie/data/charlie/self-driving-nano/C...</td>\n",
       "      <td>/home/charlie/data/charlie/self-driving-nano/C...</td>\n",
       "      <td>0.0</td>\n",
       "      <td>0.0</td>\n",
       "      <td>0</td>\n",
       "      <td>0.000011</td>\n",
       "    </tr>\n",
       "    <tr>\n",
       "      <th>3</th>\n",
       "      <td>/home/charlie/data/charlie/self-driving-nano/C...</td>\n",
       "      <td>/home/charlie/data/charlie/self-driving-nano/C...</td>\n",
       "      <td>/home/charlie/data/charlie/self-driving-nano/C...</td>\n",
       "      <td>0.0</td>\n",
       "      <td>0.0</td>\n",
       "      <td>0</td>\n",
       "      <td>0.000021</td>\n",
       "    </tr>\n",
       "    <tr>\n",
       "      <th>4</th>\n",
       "      <td>/home/charlie/data/charlie/self-driving-nano/C...</td>\n",
       "      <td>/home/charlie/data/charlie/self-driving-nano/C...</td>\n",
       "      <td>/home/charlie/data/charlie/self-driving-nano/C...</td>\n",
       "      <td>0.0</td>\n",
       "      <td>0.0</td>\n",
       "      <td>0</td>\n",
       "      <td>0.000016</td>\n",
       "    </tr>\n",
       "  </tbody>\n",
       "</table>\n",
       "</div>"
      ],
      "text/plain": [
       "                                              center  \\\n",
       "0  /home/charlie/data/charlie/self-driving-nano/C...   \n",
       "1  /home/charlie/data/charlie/self-driving-nano/C...   \n",
       "2  /home/charlie/data/charlie/self-driving-nano/C...   \n",
       "3  /home/charlie/data/charlie/self-driving-nano/C...   \n",
       "4  /home/charlie/data/charlie/self-driving-nano/C...   \n",
       "\n",
       "                                                left  \\\n",
       "0  /home/charlie/data/charlie/self-driving-nano/C...   \n",
       "1  /home/charlie/data/charlie/self-driving-nano/C...   \n",
       "2  /home/charlie/data/charlie/self-driving-nano/C...   \n",
       "3  /home/charlie/data/charlie/self-driving-nano/C...   \n",
       "4  /home/charlie/data/charlie/self-driving-nano/C...   \n",
       "\n",
       "                                               right  steering  throttle  \\\n",
       "0  /home/charlie/data/charlie/self-driving-nano/C...       0.0       0.0   \n",
       "1  /home/charlie/data/charlie/self-driving-nano/C...       0.0       0.0   \n",
       "2  /home/charlie/data/charlie/self-driving-nano/C...       0.0       0.0   \n",
       "3  /home/charlie/data/charlie/self-driving-nano/C...       0.0       0.0   \n",
       "4  /home/charlie/data/charlie/self-driving-nano/C...       0.0       0.0   \n",
       "\n",
       "   break     speed  \n",
       "0      0  0.000020  \n",
       "1      0  0.000011  \n",
       "2      0  0.000011  \n",
       "3      0  0.000021  \n",
       "4      0  0.000016  "
      ]
     },
     "execution_count": 18,
     "metadata": {},
     "output_type": "execute_result"
    }
   ],
   "source": [
    "### Load csv as a pandas dataframe\n",
    "header = [\"center\", \"left\", \"right\", \"steering\", \"throttle\", \"break\", \"speed\"]\n",
    "df = pd.read_csv(os.path.join(DATASET, \"driving_log.csv\"), header=None, names=header)\n",
    "df.head()"
   ]
  },
  {
   "cell_type": "code",
   "execution_count": 19,
   "metadata": {},
   "outputs": [],
   "source": [
    "def get_image_path(filename):\n",
    "    return os.path.join(DATASET,\"IMG\", filename.split(\"/\")[-1])"
   ]
  },
  {
   "cell_type": "code",
   "execution_count": 20,
   "metadata": {},
   "outputs": [
    {
     "data": {
      "text/html": [
       "<div>\n",
       "<style scoped>\n",
       "    .dataframe tbody tr th:only-of-type {\n",
       "        vertical-align: middle;\n",
       "    }\n",
       "\n",
       "    .dataframe tbody tr th {\n",
       "        vertical-align: top;\n",
       "    }\n",
       "\n",
       "    .dataframe thead th {\n",
       "        text-align: right;\n",
       "    }\n",
       "</style>\n",
       "<table border=\"1\" class=\"dataframe\">\n",
       "  <thead>\n",
       "    <tr style=\"text-align: right;\">\n",
       "      <th></th>\n",
       "      <th>center</th>\n",
       "      <th>left</th>\n",
       "      <th>right</th>\n",
       "      <th>steering</th>\n",
       "      <th>throttle</th>\n",
       "      <th>break</th>\n",
       "      <th>speed</th>\n",
       "    </tr>\n",
       "  </thead>\n",
       "  <tbody>\n",
       "    <tr>\n",
       "      <th>0</th>\n",
       "      <td>data_mine/IMG/center_2019_02_03_21_24_02_332.jpg</td>\n",
       "      <td>data_mine/IMG/left_2019_02_03_21_24_02_332.jpg</td>\n",
       "      <td>data_mine/IMG/right_2019_02_03_21_24_02_332.jpg</td>\n",
       "      <td>0.0</td>\n",
       "      <td>0.0</td>\n",
       "      <td>0</td>\n",
       "      <td>0.000020</td>\n",
       "    </tr>\n",
       "    <tr>\n",
       "      <th>1</th>\n",
       "      <td>data_mine/IMG/center_2019_02_03_21_24_02_398.jpg</td>\n",
       "      <td>data_mine/IMG/left_2019_02_03_21_24_02_398.jpg</td>\n",
       "      <td>data_mine/IMG/right_2019_02_03_21_24_02_398.jpg</td>\n",
       "      <td>0.0</td>\n",
       "      <td>0.0</td>\n",
       "      <td>0</td>\n",
       "      <td>0.000011</td>\n",
       "    </tr>\n",
       "    <tr>\n",
       "      <th>2</th>\n",
       "      <td>data_mine/IMG/center_2019_02_03_21_24_02_467.jpg</td>\n",
       "      <td>data_mine/IMG/left_2019_02_03_21_24_02_467.jpg</td>\n",
       "      <td>data_mine/IMG/right_2019_02_03_21_24_02_467.jpg</td>\n",
       "      <td>0.0</td>\n",
       "      <td>0.0</td>\n",
       "      <td>0</td>\n",
       "      <td>0.000011</td>\n",
       "    </tr>\n",
       "    <tr>\n",
       "      <th>3</th>\n",
       "      <td>data_mine/IMG/center_2019_02_03_21_24_02_536.jpg</td>\n",
       "      <td>data_mine/IMG/left_2019_02_03_21_24_02_536.jpg</td>\n",
       "      <td>data_mine/IMG/right_2019_02_03_21_24_02_536.jpg</td>\n",
       "      <td>0.0</td>\n",
       "      <td>0.0</td>\n",
       "      <td>0</td>\n",
       "      <td>0.000021</td>\n",
       "    </tr>\n",
       "    <tr>\n",
       "      <th>4</th>\n",
       "      <td>data_mine/IMG/center_2019_02_03_21_24_02_605.jpg</td>\n",
       "      <td>data_mine/IMG/left_2019_02_03_21_24_02_605.jpg</td>\n",
       "      <td>data_mine/IMG/right_2019_02_03_21_24_02_605.jpg</td>\n",
       "      <td>0.0</td>\n",
       "      <td>0.0</td>\n",
       "      <td>0</td>\n",
       "      <td>0.000016</td>\n",
       "    </tr>\n",
       "  </tbody>\n",
       "</table>\n",
       "</div>"
      ],
      "text/plain": [
       "                                             center  \\\n",
       "0  data_mine/IMG/center_2019_02_03_21_24_02_332.jpg   \n",
       "1  data_mine/IMG/center_2019_02_03_21_24_02_398.jpg   \n",
       "2  data_mine/IMG/center_2019_02_03_21_24_02_467.jpg   \n",
       "3  data_mine/IMG/center_2019_02_03_21_24_02_536.jpg   \n",
       "4  data_mine/IMG/center_2019_02_03_21_24_02_605.jpg   \n",
       "\n",
       "                                             left  \\\n",
       "0  data_mine/IMG/left_2019_02_03_21_24_02_332.jpg   \n",
       "1  data_mine/IMG/left_2019_02_03_21_24_02_398.jpg   \n",
       "2  data_mine/IMG/left_2019_02_03_21_24_02_467.jpg   \n",
       "3  data_mine/IMG/left_2019_02_03_21_24_02_536.jpg   \n",
       "4  data_mine/IMG/left_2019_02_03_21_24_02_605.jpg   \n",
       "\n",
       "                                             right  steering  throttle  break  \\\n",
       "0  data_mine/IMG/right_2019_02_03_21_24_02_332.jpg       0.0       0.0      0   \n",
       "1  data_mine/IMG/right_2019_02_03_21_24_02_398.jpg       0.0       0.0      0   \n",
       "2  data_mine/IMG/right_2019_02_03_21_24_02_467.jpg       0.0       0.0      0   \n",
       "3  data_mine/IMG/right_2019_02_03_21_24_02_536.jpg       0.0       0.0      0   \n",
       "4  data_mine/IMG/right_2019_02_03_21_24_02_605.jpg       0.0       0.0      0   \n",
       "\n",
       "      speed  \n",
       "0  0.000020  \n",
       "1  0.000011  \n",
       "2  0.000011  \n",
       "3  0.000021  \n",
       "4  0.000016  "
      ]
     },
     "execution_count": 20,
     "metadata": {},
     "output_type": "execute_result"
    }
   ],
   "source": [
    "### Make paths relative to this jupyter notebook\n",
    "df[\"center\"] = df.center.apply(get_image_path)\n",
    "df[\"left\"] = df.left.apply(get_image_path)\n",
    "df[\"right\"] = df.right.apply(get_image_path)\n",
    "df.head()"
   ]
  },
  {
   "cell_type": "code",
   "execution_count": 21,
   "metadata": {},
   "outputs": [],
   "source": [
    "### Split train and dev set \n",
    "train_samples, validation_samples = train_test_split(df, test_size=0.2)"
   ]
  },
  {
   "cell_type": "code",
   "execution_count": 22,
   "metadata": {},
   "outputs": [],
   "source": [
    "# Get filenames and labels (steerings)\n",
    "c_filenames = train_samples.center.values\n",
    "c_labels = train_samples.steering.values\n",
    "\n",
    "val_filenames = validation_samples.center.values\n",
    "val_labels = validation_samples.steering.values"
   ]
  },
  {
   "cell_type": "code",
   "execution_count": 37,
   "metadata": {},
   "outputs": [],
   "source": [
    "# Add side cameras to train set\n",
    "steer_correction = 0.2\n",
    "\n",
    "l_filenames = train_samples.left.values\n",
    "l_labels = train_samples.steering.values + steer_correction\n",
    "\n",
    "r_filenames = train_samples.right.values\n",
    "r_labels = train_samples.steering.values - steer_correction\n",
    "\n",
    "filenames = np.concatenate([c_filenames, l_filenames, r_filenames])\n",
    "labels = np.concatenate([c_labels, l_labels, r_labels])"
   ]
  },
  {
   "cell_type": "code",
   "execution_count": 38,
   "metadata": {},
   "outputs": [],
   "source": [
    "# Aux function to crop the images\n",
    "def get_crop_window(crop_up, crop_down):\n",
    "    final_height = 160 - (crop_up + crop_down)\n",
    "    final_width = 320\n",
    "\n",
    "    return [\n",
    "        crop_up,\n",
    "        0,\n",
    "        final_height,\n",
    "        final_width,\n",
    "    ]"
   ]
  },
  {
   "cell_type": "code",
   "execution_count": 39,
   "metadata": {},
   "outputs": [],
   "source": [
    "# Function that returns the image decoded from jpg and label\n",
    "\n",
    "def parse_function(filename, label):\n",
    "    image_string = tf.read_file(filename)\n",
    "\n",
    "    # Don't use tf.image.decode_image, or the output shape will be undefined\n",
    "    image = tf.image.decode_jpeg(image_string, channels=3)\n",
    "    \n",
    "    image = tf.image.decode_and_crop_jpeg(\n",
    "            image_string,\n",
    "            crop_window = get_crop_window(CROP_UP, CROP_DOWN),\n",
    "            channels = 3\n",
    "        )\n",
    "\n",
    "    # This will convert to float values in [0, 1]\n",
    "#     image = tf.image.convert_image_dtype(image, tf.float32)\n",
    "\n",
    "#     image = tf.image.resize_images(image, [160, 320])\n",
    "    return image, label"
   ]
  },
  {
   "cell_type": "markdown",
   "metadata": {},
   "source": [
    "### Use of TF DataSet API"
   ]
  },
  {
   "cell_type": "code",
   "execution_count": 40,
   "metadata": {},
   "outputs": [],
   "source": [
    "# Define parameters\n",
    "BATCH_SIZE = 32\n",
    "EPOCHS = 2\n",
    "steps_per_epoch = len(train_samples)*3//BATCH_SIZE"
   ]
  },
  {
   "cell_type": "code",
   "execution_count": 41,
   "metadata": {},
   "outputs": [],
   "source": [
    "# Create training dataset\n",
    "dataset = tf.data.Dataset.from_tensor_slices((filenames, labels))\n",
    "dataset = dataset.shuffle(len(filenames))\n",
    "dataset = dataset.map(parse_function, num_parallel_calls=4)\n",
    "dataset = dataset.repeat(EPOCHS)\n",
    "# dataset = dataset.map(train_preprocess, num_parallel_calls=4)\n",
    "dataset = dataset.batch(BATCH_SIZE)\n",
    "dataset = dataset.prefetch(1)"
   ]
  },
  {
   "cell_type": "code",
   "execution_count": 33,
   "metadata": {},
   "outputs": [],
   "source": [
    "# Create dev dataset\n",
    "val_dataset = tf.data.Dataset.from_tensor_slices((val_filenames, val_labels))\n",
    "val_dataset = val_dataset.map(parse_function, num_parallel_calls=4)\n",
    "val_dataset = val_dataset.repeat(EPOCHS)\n",
    "val_dataset = val_dataset.batch(BATCH_SIZE)\n",
    "val_dataset = val_dataset.prefetch(1)"
   ]
  },
  {
   "cell_type": "code",
   "execution_count": 47,
   "metadata": {},
   "outputs": [],
   "source": [
    "# Get image example for trainig\n",
    "sess = tf.Session()\n",
    "value = dataset.make_one_shot_iterator().get_next()\n",
    "x,y = sess.run(value)"
   ]
  },
  {
   "cell_type": "code",
   "execution_count": 48,
   "metadata": {},
   "outputs": [
    {
     "name": "stdout",
     "output_type": "stream",
     "text": [
      "(32, 80, 320, 3) 0.2\n"
     ]
    },
    {
     "data": {
      "text/plain": [
       "<matplotlib.image.AxesImage at 0x7f2718aa9668>"
      ]
     },
     "execution_count": 48,
     "metadata": {},
     "output_type": "execute_result"
    },
    {
     "data": {
      "image/png": "[encoded data removed]",
      "text/plain": [
       "<Figure size 432x288 with 1 Axes>"
      ]
     },
     "metadata": {
      "needs_background": "light"
     },
     "output_type": "display_data"
    }
   ],
   "source": [
    "print(x.shape, y[0])\n",
    "plt.imshow(x[0])"
   ]
  },
  {
   "cell_type": "markdown",
   "metadata": {},
   "source": [
    "## Training"
   ]
  },
  {
   "cell_type": "code",
   "execution_count": 49,
   "metadata": {},
   "outputs": [
    {
     "name": "stdout",
     "output_type": "stream",
     "text": [
      "Epoch 1/2\n",
      "615/615 [==============================] - 192s 312ms/step - loss: 0.0087 - mean_absolute_error: 0.0732 - val_loss: 0.0091 - val_mean_absolute_error: 0.0754\n",
      "Epoch 2/2\n",
      "615/615 [==============================] - 194s 316ms/step - loss: 0.0077 - mean_absolute_error: 0.0687 - val_loss: 0.0073 - val_mean_absolute_error: 0.0716\n"
     ]
    }
   ],
   "source": [
    "history = model.fit(dataset,\n",
    "          epochs=EPOCHS,\n",
    "          steps_per_epoch=steps_per_epoch,\n",
    "          validation_data=val_dataset,\n",
    "          validation_steps=1)"
   ]
  },
  {
   "cell_type": "code",
   "execution_count": 22,
   "metadata": {},
   "outputs": [
    {
     "name": "stdout",
     "output_type": "stream",
     "text": [
      "WARNING:tensorflow:TensorFlow optimizers do not make it possible to access optimizer attributes or optimizer state after instantiation. As a result, we cannot save the optimizer as part of the model save file.You will have to compile your model again after loading it. Prefer using a Keras optimizer instead (see keras.io/optimizers).\n"
     ]
    }
   ],
   "source": [
    "### Save the model\n",
    "tf.keras.models.save_model(\n",
    "    model,\n",
    "    \"models/test4\"\n",
    ")"
   ]
  }
 ],
 "metadata": {
  "kernelspec": {
   "display_name": "Python 3",
   "language": "python",
   "name": "python3"
  },
  "language_info": {
   "codemirror_mode": {
    "name": "ipython",
    "version": 3
   },
   "file_extension": ".py",
   "mimetype": "text/x-python",
   "name": "python",
   "nbconvert_exporter": "python",
   "pygments_lexer": "ipython3",
   "version": "3.5.2"
  }
 },
 "nbformat": 4,
 "nbformat_minor": 2
}
