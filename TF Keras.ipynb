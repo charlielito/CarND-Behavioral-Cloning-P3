{
 "cells": [
  {
   "cell_type": "code",
   "execution_count": 2,
   "metadata": {},
   "outputs": [],
   "source": [
    "import os\n",
    "import csv\n",
    "\n",
    "import cv2\n",
    "import numpy as np\n",
    "import pandas as pd\n",
    "import sklearn\n",
    "import matplotlib.pyplot as plt\n",
    "\n",
    "from sklearn.utils import shuffle\n",
    "from sklearn.model_selection import train_test_split"
   ]
  },
  {
   "cell_type": "code",
   "execution_count": 3,
   "metadata": {},
   "outputs": [],
   "source": [
    "DATASET = \"data_mine\""
   ]
  },
  {
   "cell_type": "code",
   "execution_count": 4,
   "metadata": {},
   "outputs": [
    {
     "data": {
      "text/html": [
       "<div>\n",
       "<style scoped>\n",
       "    .dataframe tbody tr th:only-of-type {\n",
       "        vertical-align: middle;\n",
       "    }\n",
       "\n",
       "    .dataframe tbody tr th {\n",
       "        vertical-align: top;\n",
       "    }\n",
       "\n",
       "    .dataframe thead th {\n",
       "        text-align: right;\n",
       "    }\n",
       "</style>\n",
       "<table border=\"1\" class=\"dataframe\">\n",
       "  <thead>\n",
       "    <tr style=\"text-align: right;\">\n",
       "      <th></th>\n",
       "      <th>center</th>\n",
       "      <th>left</th>\n",
       "      <th>right</th>\n",
       "      <th>steering</th>\n",
       "      <th>throttle</th>\n",
       "      <th>break</th>\n",
       "      <th>speed</th>\n",
       "    </tr>\n",
       "  </thead>\n",
       "  <tbody>\n",
       "    <tr>\n",
       "      <th>0</th>\n",
       "      <td>/home/charlie/data/charlie/self-driving-nano/C...</td>\n",
       "      <td>/home/charlie/data/charlie/self-driving-nano/C...</td>\n",
       "      <td>/home/charlie/data/charlie/self-driving-nano/C...</td>\n",
       "      <td>0.0</td>\n",
       "      <td>0.0</td>\n",
       "      <td>0</td>\n",
       "      <td>0.000020</td>\n",
       "    </tr>\n",
       "    <tr>\n",
       "      <th>1</th>\n",
       "      <td>/home/charlie/data/charlie/self-driving-nano/C...</td>\n",
       "      <td>/home/charlie/data/charlie/self-driving-nano/C...</td>\n",
       "      <td>/home/charlie/data/charlie/self-driving-nano/C...</td>\n",
       "      <td>0.0</td>\n",
       "      <td>0.0</td>\n",
       "      <td>0</td>\n",
       "      <td>0.000011</td>\n",
       "    </tr>\n",
       "    <tr>\n",
       "      <th>2</th>\n",
       "      <td>/home/charlie/data/charlie/self-driving-nano/C...</td>\n",
       "      <td>/home/charlie/data/charlie/self-driving-nano/C...</td>\n",
       "      <td>/home/charlie/data/charlie/self-driving-nano/C...</td>\n",
       "      <td>0.0</td>\n",
       "      <td>0.0</td>\n",
       "      <td>0</td>\n",
       "      <td>0.000011</td>\n",
       "    </tr>\n",
       "    <tr>\n",
       "      <th>3</th>\n",
       "      <td>/home/charlie/data/charlie/self-driving-nano/C...</td>\n",
       "      <td>/home/charlie/data/charlie/self-driving-nano/C...</td>\n",
       "      <td>/home/charlie/data/charlie/self-driving-nano/C...</td>\n",
       "      <td>0.0</td>\n",
       "      <td>0.0</td>\n",
       "      <td>0</td>\n",
       "      <td>0.000021</td>\n",
       "    </tr>\n",
       "    <tr>\n",
       "      <th>4</th>\n",
       "      <td>/home/charlie/data/charlie/self-driving-nano/C...</td>\n",
       "      <td>/home/charlie/data/charlie/self-driving-nano/C...</td>\n",
       "      <td>/home/charlie/data/charlie/self-driving-nano/C...</td>\n",
       "      <td>0.0</td>\n",
       "      <td>0.0</td>\n",
       "      <td>0</td>\n",
       "      <td>0.000016</td>\n",
       "    </tr>\n",
       "  </tbody>\n",
       "</table>\n",
       "</div>"
      ],
      "text/plain": [
       "                                              center  \\\n",
       "0  /home/charlie/data/charlie/self-driving-nano/C...   \n",
       "1  /home/charlie/data/charlie/self-driving-nano/C...   \n",
       "2  /home/charlie/data/charlie/self-driving-nano/C...   \n",
       "3  /home/charlie/data/charlie/self-driving-nano/C...   \n",
       "4  /home/charlie/data/charlie/self-driving-nano/C...   \n",
       "\n",
       "                                                left  \\\n",
       "0  /home/charlie/data/charlie/self-driving-nano/C...   \n",
       "1  /home/charlie/data/charlie/self-driving-nano/C...   \n",
       "2  /home/charlie/data/charlie/self-driving-nano/C...   \n",
       "3  /home/charlie/data/charlie/self-driving-nano/C...   \n",
       "4  /home/charlie/data/charlie/self-driving-nano/C...   \n",
       "\n",
       "                                               right  steering  throttle  \\\n",
       "0  /home/charlie/data/charlie/self-driving-nano/C...       0.0       0.0   \n",
       "1  /home/charlie/data/charlie/self-driving-nano/C...       0.0       0.0   \n",
       "2  /home/charlie/data/charlie/self-driving-nano/C...       0.0       0.0   \n",
       "3  /home/charlie/data/charlie/self-driving-nano/C...       0.0       0.0   \n",
       "4  /home/charlie/data/charlie/self-driving-nano/C...       0.0       0.0   \n",
       "\n",
       "   break     speed  \n",
       "0      0  0.000020  \n",
       "1      0  0.000011  \n",
       "2      0  0.000011  \n",
       "3      0  0.000021  \n",
       "4      0  0.000016  "
      ]
     },
     "execution_count": 4,
     "metadata": {},
     "output_type": "execute_result"
    }
   ],
   "source": [
    "header = [\"center\", \"left\", \"right\", \"steering\", \"throttle\", \"break\", \"speed\"]\n",
    "df = pd.read_csv(os.path.join(DATASET, \"driving_log.csv\"), header=None, names=header)\n",
    "df.head()"
   ]
  },
  {
   "cell_type": "code",
   "execution_count": 5,
   "metadata": {},
   "outputs": [],
   "source": [
    "steering_labels = df.steering.values\n",
    "center_images = df.center.values\n",
    "left_images = df.left.values\n",
    "right_images = df.right.values"
   ]
  },
  {
   "cell_type": "code",
   "execution_count": 6,
   "metadata": {},
   "outputs": [],
   "source": [
    "samples = [left_images, center_images, right_images, steering_labels]"
   ]
  },
  {
   "cell_type": "code",
   "execution_count": 7,
   "metadata": {},
   "outputs": [],
   "source": [
    "train_samples, validation_samples = train_test_split(df, test_size=0.2)"
   ]
  },
  {
   "cell_type": "code",
   "execution_count": 41,
   "metadata": {},
   "outputs": [],
   "source": [
    "CROP_UP = 50\n",
    "CROP_DOWN = 30\n",
    "final_height = 160 - (CROP_UP + CROP_DOWN)\n",
    "\n",
    "BATCH_SIZE = 32\n",
    "EPOCHS = 10\n",
    "steps_per_epoch = len(train_samples)*3//BATCH_SIZE\n",
    "\n",
    "conv_dropout = 0.4\n",
    "dense_dropout = 0.5"
   ]
  },
  {
   "cell_type": "code",
   "execution_count": 9,
   "metadata": {},
   "outputs": [],
   "source": [
    "import tensorflow as tf"
   ]
  },
  {
   "cell_type": "code",
   "execution_count": 10,
   "metadata": {},
   "outputs": [],
   "source": [
    "def conv2d_batch_norm(model, filters, kernel_size, activation=\"relu\"):\n",
    "\n",
    "    model.add(tf.layers.Conv2D(filters, (kernel_size, kernel_size)))\n",
    "    model.add(tf.layers.BatchNormalization())\n",
    "    model.add(tf.keras.layers.Activation(activation))\n",
    "    \n",
    "def dense_batch_norm(model, filters, activation=\"relu\"):\n",
    "\n",
    "    model.add(tf.layers.Dense(filters))\n",
    "    model.add(tf.layers.BatchNormalization())\n",
    "    model.add(tf.keras.layers.Activation(activation))"
   ]
  },
  {
   "cell_type": "code",
   "execution_count": 11,
   "metadata": {},
   "outputs": [],
   "source": [
    "model = tf.keras.Sequential()\n",
    "\n",
    "model.add(tf.layers.BatchNormalization(input_shape=(final_height, 320, 3)))\n",
    "\n",
    "conv2d_batch_norm(model, 32, 5)\n",
    "model.add(tf.layers.MaxPooling2D((2, 2), strides=(2,2)))\n",
    "model.add(tf.layers.Dropout(conv_dropout))\n",
    "\n",
    "conv2d_batch_norm(model, 32, 3)\n",
    "model.add(tf.layers.MaxPooling2D((2, 2), strides=(2,2)))\n",
    "model.add(tf.layers.Dropout(conv_dropout))\n",
    "\n",
    "conv2d_batch_norm(model, 64, 3)\n",
    "model.add(tf.layers.MaxPooling2D((2, 2), strides=(2,2)))\n",
    "model.add(tf.layers.Dropout(conv_dropout))\n",
    "\n",
    "conv2d_batch_norm(model, 64, 3)\n",
    "model.add(tf.layers.MaxPooling2D((2, 2), strides=(2,2)))\n",
    "model.add(tf.layers.Dropout(conv_dropout))\n",
    "\n",
    "model.add(tf.layers.Flatten())\n",
    "\n",
    "dense_batch_norm(model, 1024)\n",
    "model.add(tf.layers.Dropout(dense_dropout))\n",
    "\n",
    "dense_batch_norm(model, 512)\n",
    "model.add(tf.layers.Dropout(dense_dropout))\n",
    "\n",
    "dense_batch_norm(model, 128)\n",
    "model.add(tf.layers.Dropout(dense_dropout))\n",
    "\n",
    "model.add(tf.layers.Dense(1))"
   ]
  },
  {
   "cell_type": "code",
   "execution_count": 12,
   "metadata": {},
   "outputs": [],
   "source": [
    "model.compile(optimizer=tf.train.AdamOptimizer(0.001),\n",
    "              loss='mse',       # mean squared error\n",
    "              metrics=['mae'])  # mean absolute error"
   ]
  },
  {
   "cell_type": "code",
   "execution_count": 22,
   "metadata": {},
   "outputs": [],
   "source": [
    "c_filenames = train_samples.center.apply(lambda filename: os.path.join(DATASET,\"IMG\", filename.split(\"/\")[-1])).values\n",
    "c_labels = train_samples.steering.values\n",
    "\n",
    "val_filenames = validation_samples.center.apply(lambda filename: os.path.join(DATASET,\"IMG\", filename.split(\"/\")[-1])).values\n",
    "val_labels = validation_samples.steering.values"
   ]
  },
  {
   "cell_type": "code",
   "execution_count": 27,
   "metadata": {},
   "outputs": [],
   "source": [
    "# Add side cameras\n",
    "steer_correction = 0.2\n",
    "\n",
    "l_filenames = train_samples.left.apply(lambda filename: os.path.join(DATASET,\"IMG\", filename.split(\"/\")[-1])).values\n",
    "l_labels = train_samples.steering.values + steer_correction\n",
    "\n",
    "r_filenames = train_samples.right.apply(lambda filename: os.path.join(DATASET,\"IMG\", filename.split(\"/\")[-1])).values\n",
    "r_labels = train_samples.steering.values - steer_correction\n",
    "\n",
    "filenames = np.concatenate([c_filenames, l_filenames, r_filenames])\n",
    "labels = np.concatenate([c_labels, l_labels, r_labels])"
   ]
  },
  {
   "cell_type": "code",
   "execution_count": 28,
   "metadata": {},
   "outputs": [],
   "source": [
    "def get_crop_window(crop_up, crop_down):\n",
    "    final_height = 160 - (crop_up + crop_down)\n",
    "    final_width = 320\n",
    "\n",
    "    return [\n",
    "        crop_up,\n",
    "        0,\n",
    "        final_height,\n",
    "        final_width,\n",
    "    ]"
   ]
  },
  {
   "cell_type": "code",
   "execution_count": 29,
   "metadata": {},
   "outputs": [],
   "source": [
    "def parse_function(filename, label):\n",
    "    image_string = tf.read_file(filename)\n",
    "\n",
    "    # Don't use tf.image.decode_image, or the output shape will be undefined\n",
    "    image = tf.image.decode_jpeg(image_string, channels=3)\n",
    "    \n",
    "    image = tf.image.decode_and_crop_jpeg(\n",
    "            image_string,\n",
    "            crop_window = get_crop_window(CROP_UP, CROP_DOWN),\n",
    "            channels = 3\n",
    "        )\n",
    "\n",
    "    # This will convert to float values in [0, 1]\n",
    "#     image = tf.image.convert_image_dtype(image, tf.float32)\n",
    "\n",
    "#     image = tf.image.resize_images(image, [160, 320])\n",
    "    return image, label"
   ]
  },
  {
   "cell_type": "code",
   "execution_count": 37,
   "metadata": {},
   "outputs": [],
   "source": [
    "dataset = tf.data.Dataset.from_tensor_slices((filenames, labels))\n",
    "dataset = dataset.shuffle(len(filenames))\n",
    "dataset = dataset.map(parse_function, num_parallel_calls=4)\n",
    "dataset = dataset.repeat(EPOCHS)\n",
    "# dataset = dataset.map(train_preprocess, num_parallel_calls=4)\n",
    "dataset = dataset.batch(BATCH_SIZE)\n",
    "dataset = dataset.prefetch(1)"
   ]
  },
  {
   "cell_type": "code",
   "execution_count": 38,
   "metadata": {},
   "outputs": [],
   "source": [
    "val_dataset = tf.data.Dataset.from_tensor_slices((val_filenames, val_labels))\n",
    "val_dataset = val_dataset.map(parse_function, num_parallel_calls=4)\n",
    "val_dataset = val_dataset.repeat(EPOCHS)\n",
    "val_dataset = val_dataset.batch(BATCH_SIZE)\n",
    "val_dataset = val_dataset.prefetch(1)"
   ]
  },
  {
   "cell_type": "code",
   "execution_count": 34,
   "metadata": {},
   "outputs": [],
   "source": [
    "sess = tf.Session()\n",
    "value = dataset.make_one_shot_iterator().get_next()\n",
    "x,y = sess.run(value)"
   ]
  },
  {
   "cell_type": "code",
   "execution_count": 35,
   "metadata": {},
   "outputs": [
    {
     "name": "stdout",
     "output_type": "stream",
     "text": [
      "(32, 80, 320, 3)\n"
     ]
    },
    {
     "data": {
      "text/plain": [
       "<matplotlib.image.AxesImage at 0x7f5394294320>"
      ]
     },
     "execution_count": 35,
     "metadata": {},
     "output_type": "execute_result"
    },
    {
     "data": {
      "image/png": "[encoded data removed]",
      "text/plain": [
       "<Figure size 432x288 with 1 Axes>"
      ]
     },
     "metadata": {
      "needs_background": "light"
     },
     "output_type": "display_data"
    }
   ],
   "source": [
    "print(x.shape)\n",
    "plt.imshow(x[0])"
   ]
  },
  {
   "cell_type": "code",
   "execution_count": 40,
   "metadata": {},
   "outputs": [
    {
     "name": "stdout",
     "output_type": "stream",
     "text": [
      "Epoch 1/10\n",
      "111/111 [==============================] - 47s 427ms/step - loss: 0.0100 - mean_absolute_error: 0.0791 - val_loss: 0.0081 - val_mean_absolute_error: 0.0778\n",
      "Epoch 2/10\n",
      "111/111 [==============================] - 46s 419ms/step - loss: 0.0098 - mean_absolute_error: 0.0791 - val_loss: 0.0068 - val_mean_absolute_error: 0.0690\n",
      "Epoch 3/10\n",
      "111/111 [==============================] - 49s 438ms/step - loss: 0.0102 - mean_absolute_error: 0.0801 - val_loss: 0.0094 - val_mean_absolute_error: 0.0730\n",
      "Epoch 4/10\n",
      "111/111 [==============================] - 49s 440ms/step - loss: 0.0086 - mean_absolute_error: 0.0736 - val_loss: 0.0075 - val_mean_absolute_error: 0.0743\n",
      "Epoch 5/10\n",
      "111/111 [==============================] - 49s 440ms/step - loss: 0.0083 - mean_absolute_error: 0.0719 - val_loss: 0.0063 - val_mean_absolute_error: 0.0658\n",
      "Epoch 6/10\n",
      "111/111 [==============================] - 50s 451ms/step - loss: 0.0081 - mean_absolute_error: 0.0711 - val_loss: 0.0119 - val_mean_absolute_error: 0.0921\n",
      "Epoch 7/10\n",
      "111/111 [==============================] - 53s 479ms/step - loss: 0.0069 - mean_absolute_error: 0.0658 - val_loss: 0.0080 - val_mean_absolute_error: 0.0712\n",
      "Epoch 8/10\n",
      "111/111 [==============================] - 50s 448ms/step - loss: 0.0071 - mean_absolute_error: 0.0655 - val_loss: 0.0086 - val_mean_absolute_error: 0.0759\n",
      "Epoch 9/10\n",
      "111/111 [==============================] - 51s 457ms/step - loss: 0.0073 - mean_absolute_error: 0.0669 - val_loss: 0.0071 - val_mean_absolute_error: 0.0720\n",
      "Epoch 10/10\n",
      "111/111 [==============================] - 53s 475ms/step - loss: 0.0066 - mean_absolute_error: 0.0637 - val_loss: 0.0085 - val_mean_absolute_error: 0.0738\n"
     ]
    },
    {
     "data": {
      "text/plain": [
       "<tensorflow.python.keras.callbacks.History at 0x7f534477be48>"
      ]
     },
     "execution_count": 40,
     "metadata": {},
     "output_type": "execute_result"
    }
   ],
   "source": [
    "model.fit(dataset,\n",
    "          epochs=EPOCHS,\n",
    "          steps_per_epoch=steps_per_epoch,\n",
    "          validation_data=val_dataset,\n",
    "          validation_steps=1)"
   ]
  },
  {
   "cell_type": "code",
   "execution_count": 42,
   "metadata": {},
   "outputs": [
    {
     "name": "stdout",
     "output_type": "stream",
     "text": [
      "WARNING:tensorflow:TensorFlow optimizers do not make it possible to access optimizer attributes or optimizer state after instantiation. As a result, we cannot save the optimizer as part of the model save file.You will have to compile your model again after loading it. Prefer using a Keras optimizer instead (see keras.io/optimizers).\n"
     ]
    }
   ],
   "source": [
    "tf.keras.models.save_model(\n",
    "    model,\n",
    "    \"models/test3\"\n",
    ")"
   ]
  },
  {
   "cell_type": "code",
   "execution_count": null,
   "metadata": {},
   "outputs": [],
   "source": []
  }
 ],
 "metadata": {
  "kernelspec": {
   "display_name": "Python 3",
   "language": "python",
   "name": "python3"
  },
  "language_info": {
   "codemirror_mode": {
    "name": "ipython",
    "version": 3
   },
   "file_extension": ".py",
   "mimetype": "text/x-python",
   "name": "python",
   "nbconvert_exporter": "python",
   "pygments_lexer": "ipython3",
   "version": "3.5.2"
  }
 },
 "nbformat": 4,
 "nbformat_minor": 2
}
